{
 "cells": [
  {
   "cell_type": "code",
   "execution_count": null,
   "id": "542b58d4",
   "metadata": {},
   "outputs": [],
   "source": [
    "import torch,os\n",
    "from torch.utils.data import DataLoader\n",
    "import torchvision.datasets as dsets\n",
    "import torchvision.transforms as transforms\n",
    "\n",
    "\n",
    "root = os.getcwd()\n",
    "batch_size = 100\n",
    "# 加载数据时即将其转换为tensor并归一化\n",
    "train_dataset = dsets.MNIST(root, train=True, download=True,\n",
    "                            transform=transforms.Compose([transforms.ToTensor(),\n",
    "                            transforms.Normalize((0.1307,), (0.3081,))]))\n",
    "test_dataset = dsets.MNIST(root, train=False, download=True,\n",
    "                            transform=transforms.Compose([transforms.ToTensor(),\n",
    "                            transforms.Normalize((0.1307,), (0.3081,))]))\n",
    "\n",
    "# 生成训练loader和测试loader\n",
    "train_loader = DataLoader(dataset=train_dataset,\n",
    "                           batch_size=batch_size,\n",
    "                             shuffle=True)\n",
    "test_loader = DataLoader(dataset=test_dataset,\n",
    "                           batch_size=batch_size,\n",
    "                            shuffle=True)"
   ]
  }
 ],
 "metadata": {
  "kernelspec": {
   "display_name": "Python 3 (ipykernel)",
   "language": "python",
   "name": "python3"
  },
  "language_info": {
   "codemirror_mode": {
    "name": "ipython",
    "version": 3
   },
   "file_extension": ".py",
   "mimetype": "text/x-python",
   "name": "python",
   "nbconvert_exporter": "python",
   "pygments_lexer": "ipython3",
   "version": "3.9.18"
  }
 },
 "nbformat": 4,
 "nbformat_minor": 5
}
