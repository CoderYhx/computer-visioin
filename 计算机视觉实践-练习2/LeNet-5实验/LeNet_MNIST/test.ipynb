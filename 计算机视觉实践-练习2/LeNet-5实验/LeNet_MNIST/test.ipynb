{
 "cells": [
  {
   "cell_type": "code",
   "execution_count": null,
   "id": "6ea2ce80",
   "metadata": {},
   "outputs": [],
   "source": [
    "import torch\n",
    "import torch.nn as nn\n",
    "import torch.nn.functional as F\n",
    "import torch.optim as optim\n",
    "from torchvision import datasets, transforms\n",
    "import cv2\n",
    "from matplotlib import pyplot as plt\n",
    "\n",
    "if __name__ == '__main__':\n",
    "    device = torch.device('cuda' if torch.cuda.is_available() else 'cpu')\n",
    "    model = torch.load('models/model-mnist.pth')  # 加载模型\n",
    "    model = model.to(device)\n",
    "    model.eval()  # 把模型转为test模式\n",
    "\n",
    "    # 读取要预测的图片\n",
    "    img = cv2.imread(\"./images/test_mnist.jpg\")\n",
    "    img = cv2.resize(img, dsize=(32, 32), interpolation=cv2.INTER_NEAREST)\n",
    "    plt.imshow(img, cmap=\"gray\")  # 显示图片\n",
    "    plt.axis('off')  # 不显示坐标轴\n",
    "    plt.show()\n",
    "\n",
    "    # 导入图片，图片扩展后为[1，1，32，32]\n",
    "    trans = transforms.Compose(\n",
    "        [\n",
    "            transforms.ToTensor(),\n",
    "            transforms.Normalize((0.1307,), (0.3081,))\n",
    "        ])\n",
    "    img = cv2.cvtColor(img, cv2.COLOR_BGR2GRAY)  # 图片转为灰度图，因为mnist数据集都是灰度图\n",
    "    img = trans(img)\n",
    "    img = img.to(device)\n",
    "    img = img.unsqueeze(0)  # 图片扩展多一维,因为输入到保存的模型中是4维的[batch_size,通道,长，宽]，而普通图片只有三维，[通道,长，宽]\n",
    "\n",
    "    # 预测\n",
    "    output = model(img)\n",
    "    prob = F.softmax(output, dim=1)  # prob是10个分类的概率\n",
    "    print(\"概率：\", prob)\n",
    "    value, predicted = torch.max(output.data, 1)\n",
    "    predict = output.argmax(dim=1)\n",
    "    print(\"预测类别：\", predict.item())"
   ]
  }
 ],
 "metadata": {
  "kernelspec": {
   "display_name": "Python 3 (ipykernel)",
   "language": "python",
   "name": "python3"
  },
  "language_info": {
   "codemirror_mode": {
    "name": "ipython",
    "version": 3
   },
   "file_extension": ".py",
   "mimetype": "text/x-python",
   "name": "python",
   "nbconvert_exporter": "python",
   "pygments_lexer": "ipython3",
   "version": "3.9.18"
  }
 },
 "nbformat": 4,
 "nbformat_minor": 5
}
