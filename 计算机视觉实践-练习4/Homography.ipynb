{
 "cells": [
  {
   "cell_type": "code",
   "execution_count": null,
   "id": "79fcc66c",
   "metadata": {},
   "outputs": [],
   "source": [
    "import cv2\n",
    "import numpy as np\n",
    "import pylab as pl\n",
    "\n",
    "# 读取两张图片\n",
    "image1 = cv2.imread('left.jpg')\n",
    "image2 = cv2.imread('right.jpg')\n",
    "\n",
    "# 转换为灰度图像\n",
    "gray1 = cv2.cvtColor(image1, cv2.COLOR_BGR2GRAY)\n",
    "gray2 = cv2.cvtColor(image2, cv2.COLOR_BGR2GRAY)\n",
    "\n",
    "# 使用SIFT特征检测器和描述符提取关键点和特征向量\n",
    "sift = cv2.SIFT_create()\n",
    "keypoints1, descriptors1 = sift.detectAndCompute(gray1, None)\n",
    "keypoints2, descriptors2 = sift.detectAndCompute(gray2, None)\n",
    "\n",
    "# 使用FLANN匹配器进行特征匹配\n",
    "flann = cv2.FlannBasedMatcher()\n",
    "matches = flann.knnMatch(descriptors1, descriptors2, k=2)\n",
    "\n",
    "# 根据最近邻比率进行筛选\n",
    "good_matches = []\n",
    "for m, n in matches:\n",
    "    if m.distance < 0.7 * n.distance:\n",
    "        good_matches.append(m)\n",
    "\n",
    "# 提取匹配的关键点坐标\n",
    "src_pts = np.float32([keypoints1[m.queryIdx].pt for m in good_matches]).reshape(-1, 1, 2)\n",
    "dst_pts = np.float32([keypoints2[m.trainIdx].pt for m in good_matches]).reshape(-1, 1, 2)\n",
    "\n",
    "# 使用RANSAC算法估计单应性矩阵\n",
    "H, _ = cv2.findHomography(src_pts, dst_pts,cv2.RANSAC,5.0)\n",
    "\n",
    "# 将image1投影到image2上\n",
    "result = cv2.warpPerspective(image1, H, (image2.shape[1], image2.shape[0]))\n",
    "\n",
    "# 显示结果\n",
    "pl.figure(), pl.imshow(result[:, :, ::-1]), pl.title('out'), pl.show()\n",
    "\n",
    "cv2.imwrite(\"result.jpg\",result)\n",
    "cv2.waitKey(0)\n",
    "cv2.destroyAllWindows()\n",
    "\n",
    "print(\"单应性矩阵:\")\n",
    "print(H)"
   ]
  }
 ],
 "metadata": {
  "kernelspec": {
   "display_name": "Python 3 (ipykernel)",
   "language": "python",
   "name": "python3"
  },
  "language_info": {
   "codemirror_mode": {
    "name": "ipython",
    "version": 3
   },
   "file_extension": ".py",
   "mimetype": "text/x-python",
   "name": "python",
   "nbconvert_exporter": "python",
   "pygments_lexer": "ipython3",
   "version": "3.9.18"
  }
 },
 "nbformat": 4,
 "nbformat_minor": 5
}
